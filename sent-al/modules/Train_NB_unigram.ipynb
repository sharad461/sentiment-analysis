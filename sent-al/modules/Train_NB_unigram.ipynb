{
 "cells": [
  {
   "cell_type": "code",
   "execution_count": 1,
   "metadata": {},
   "outputs": [],
   "source": [
    "import pandas as pd\n",
    "data = pd.read_csv(\"training.1600000.processed.noemoticon.csv\", encoding=\"latin-1\") # The Sentiment140 dataset"
   ]
  },
  {
   "cell_type": "code",
   "execution_count": 2,
   "metadata": {},
   "outputs": [],
   "source": [
    "from os import listdir\n",
    "\n",
    "neutral_ = []\n",
    "\n",
    "neutral = listdir(\"neutral\") # the directory with neutral data\n",
    "for file in neutral:\n",
    "    with open(\"neutral/\"+file, \"r\", encoding=\"utf-8\") as f:\n",
    "        for line in f:\n",
    "            neutral_.append(line)"
   ]
  },
  {
   "cell_type": "code",
   "execution_count": 3,
   "metadata": {},
   "outputs": [],
   "source": [
    "from nltk import TweetTokenizer\n",
    "tknzr = TweetTokenizer(strip_handles=True, reduce_len=True)\n",
    "\n",
    "def word_features(tweet):\n",
    "    features = tknzr.tokenize(tweet)\n",
    "    return dict([(word), True] for word in features)\n",
    "\n",
    "tweets = data.iloc[:,5]\n",
    "\n",
    "neg_tweets = [(word_features(tweet), \"neg\") for tweet in tweets[:10000]]\n",
    "pos_tweets = [(word_features(tweet), \"pos\") for tweet in tweets[800000:810000]]\n",
    "neu_tweets = [(word_features(tweet), \"neu\") for tweet in neutral_]\n",
    "# taking only 20000 tweets, plus ~3500 neutral sentences"
   ]
  },
  {
   "cell_type": "code",
   "execution_count": 4,
   "metadata": {},
   "outputs": [],
   "source": [
    "prep_set = neg_tweets + pos_tweets + neu_tweets\n",
    "import random\n",
    "\n",
    "random.seed(123456)\n",
    "random.shuffle(prep_set)\n",
    "\n",
    "train = prep_set[:20000]\n",
    "test = prep_set[20000:]"
   ]
  },
  {
   "cell_type": "code",
   "execution_count": 5,
   "metadata": {},
   "outputs": [],
   "source": [
    "from nltk.classify import NaiveBayesClassifier\n",
    "import nltk.classify.util\n",
    "classifier = NaiveBayesClassifier.train(train)"
   ]
  },
  {
   "cell_type": "code",
   "execution_count": 6,
   "metadata": {},
   "outputs": [
    {
     "name": "stdout",
     "output_type": "stream",
     "text": [
      "accuracy: 0.751937984496124\n",
      "Most Informative Features\n",
      "                   Trump = True              neu : pos    =    333.4 : 1.0\n",
      "                shutdown = True              neu : pos    =    154.6 : 1.0\n",
      "                       ? = True              pos : neu    =    101.0 : 1.0\n",
      "               President = True              neu : neg    =     97.7 : 1.0\n",
      "                   Cohen = True              neu : pos    =     76.0 : 1.0\n",
      "                    it's = True              neg : neu    =     70.0 : 1.0\n",
      "                   State = True              neu : pos    =     67.0 : 1.0\n",
      "               president = True              neu : pos    =     65.3 : 1.0\n",
      "                  former = True              neu : neg    =     63.6 : 1.0\n",
      "                   among = True              neu : pos    =     63.5 : 1.0\n"
     ]
    },
    {
     "data": {
      "text/plain": [
       "'neu'"
      ]
     },
     "execution_count": 6,
     "metadata": {},
     "output_type": "execute_result"
    }
   ],
   "source": [
    "print ('accuracy:', nltk.classify.util.accuracy(classifier, test))\n",
    "classifier.show_most_informative_features()\n",
    "classifier.classify(word_features(\"\"\"Text analysis runs simple procedures on the submitted (English) text and visualizes the features extracted from it.\n",
    "\"\"\"))"
   ]
  },
  {
   "cell_type": "code",
   "execution_count": 7,
   "metadata": {},
   "outputs": [],
   "source": [
    "import pickle\n",
    "with open(\"NB.pickle\", \"wb\") as f:\n",
    "    pickle.dump(classifier, f)"
   ]
  }
 ],
 "metadata": {
  "kernelspec": {
   "display_name": "Python 3",
   "language": "python",
   "name": "python3"
  },
  "language_info": {
   "codemirror_mode": {
    "name": "ipython",
    "version": 3
   },
   "file_extension": ".py",
   "mimetype": "text/x-python",
   "name": "python",
   "nbconvert_exporter": "python",
   "pygments_lexer": "ipython3",
   "version": "3.6.6"
  }
 },
 "nbformat": 4,
 "nbformat_minor": 2
}
